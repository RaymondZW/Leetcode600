{
 "cells": [
  {
   "cell_type": "code",
   "execution_count": 4,
   "metadata": {},
   "outputs": [],
   "source": [
    "A = [0] * 10"
   ]
  },
  {
   "cell_type": "code",
   "execution_count": 5,
   "metadata": {},
   "outputs": [
    {
     "data": {
      "text/plain": [
       "[0, 0, 0, 0, 0, 0, 0, 0, 0, 0]"
      ]
     },
     "execution_count": 5,
     "metadata": {},
     "output_type": "execute_result"
    }
   ],
   "source": [
    "A"
   ]
  },
  {
   "cell_type": "code",
   "execution_count": 6,
   "metadata": {},
   "outputs": [
    {
     "name": "stdout",
     "output_type": "stream",
     "text": [
      "9\n",
      "8\n",
      "7\n",
      "6\n",
      "5\n",
      "4\n",
      "3\n",
      "2\n",
      "1\n",
      "0\n"
     ]
    }
   ],
   "source": [
    "for i in range(len(A) - 1, -1, -1):\n",
    "    print(i)"
   ]
  },
  {
   "cell_type": "code",
   "execution_count": null,
   "metadata": {},
   "outputs": [],
   "source": [
    "# subarray sum to zero\n",
    "def subarraySumK(arr, k):\n",
    "    res = []\n",
    "    di = {0, -1}\n",
    "    sum = 0\n",
    "    for i, num in enumerate(arr):\n",
    "        if num in di:\n",
    "            res.append(, i)\n",
    "        di[i] = \n",
    "    "
   ]
  },
  {
   "cell_type": "code",
   "execution_count": 7,
   "metadata": {},
   "outputs": [],
   "source": [
    "a = ([3]*2)"
   ]
  },
  {
   "cell_type": "code",
   "execution_count": 8,
   "metadata": {},
   "outputs": [],
   "source": [
    "a = []"
   ]
  },
  {
   "cell_type": "code",
   "execution_count": 9,
   "metadata": {},
   "outputs": [],
   "source": [
    "a.append((6,7))"
   ]
  },
  {
   "cell_type": "code",
   "execution_count": 10,
   "metadata": {},
   "outputs": [
    {
     "data": {
      "text/plain": [
       "[(6, 7)]"
      ]
     },
     "execution_count": 10,
     "metadata": {},
     "output_type": "execute_result"
    }
   ],
   "source": [
    "a"
   ]
  },
  {
   "cell_type": "code",
   "execution_count": 11,
   "metadata": {},
   "outputs": [],
   "source": [
    "sum = 3"
   ]
  },
  {
   "cell_type": "code",
   "execution_count": 12,
   "metadata": {},
   "outputs": [
    {
     "data": {
      "text/plain": [
       "3"
      ]
     },
     "execution_count": 12,
     "metadata": {},
     "output_type": "execute_result"
    }
   ],
   "source": [
    "sum"
   ]
  },
  {
   "cell_type": "code",
   "execution_count": null,
   "metadata": {},
   "outputs": [],
   "source": [
    "def find_pythagorean_triplets(nums):\n",
    "    squares = set"
   ]
  },
  {
   "cell_type": "code",
   "execution_count": null,
   "metadata": {},
   "outputs": [],
   "source": [
    "def main():\n",
    "    args "
   ]
  },
  {
   "cell_type": "code",
   "execution_count": 13,
   "metadata": {},
   "outputs": [],
   "source": [
    "args = vars()"
   ]
  },
  {
   "cell_type": "code",
   "execution_count": 3,
   "metadata": {},
   "outputs": [
    {
     "data": {
      "text/plain": [
       "{'__name__': '__main__',\n",
       " '__doc__': 'Automatically created module for IPython interactive environment',\n",
       " '__package__': None,\n",
       " '__loader__': None,\n",
       " '__spec__': None,\n",
       " '__builtin__': <module 'builtins' (built-in)>,\n",
       " '__builtins__': <module 'builtins' (built-in)>,\n",
       " '_ih': ['', 'dir()', 'args = vars()', 'vars()'],\n",
       " '_oh': {1: ['In',\n",
       "   'Out',\n",
       "   '_',\n",
       "   '__',\n",
       "   '___',\n",
       "   '__builtin__',\n",
       "   '__builtins__',\n",
       "   '__doc__',\n",
       "   '__loader__',\n",
       "   '__name__',\n",
       "   '__package__',\n",
       "   '__spec__',\n",
       "   '_dh',\n",
       "   '_i',\n",
       "   '_i1',\n",
       "   '_ih',\n",
       "   '_ii',\n",
       "   '_iii',\n",
       "   '_oh',\n",
       "   'exit',\n",
       "   'get_ipython',\n",
       "   'quit']},\n",
       " '_dh': ['/Users/ali/Documents/notes/pyhon_algor'],\n",
       " 'In': ['', 'dir()', 'args = vars()', 'vars()'],\n",
       " 'Out': {1: ['In',\n",
       "   'Out',\n",
       "   '_',\n",
       "   '__',\n",
       "   '___',\n",
       "   '__builtin__',\n",
       "   '__builtins__',\n",
       "   '__doc__',\n",
       "   '__loader__',\n",
       "   '__name__',\n",
       "   '__package__',\n",
       "   '__spec__',\n",
       "   '_dh',\n",
       "   '_i',\n",
       "   '_i1',\n",
       "   '_ih',\n",
       "   '_ii',\n",
       "   '_iii',\n",
       "   '_oh',\n",
       "   'exit',\n",
       "   'get_ipython',\n",
       "   'quit']},\n",
       " 'get_ipython': <bound method InteractiveShell.get_ipython of <ipykernel.zmqshell.ZMQInteractiveShell object at 0x10c9c5ac8>>,\n",
       " 'exit': <IPython.core.autocall.ZMQExitAutocall at 0x10ca2a9e8>,\n",
       " 'quit': <IPython.core.autocall.ZMQExitAutocall at 0x10ca2a9e8>,\n",
       " '_': ['In',\n",
       "  'Out',\n",
       "  '_',\n",
       "  '__',\n",
       "  '___',\n",
       "  '__builtin__',\n",
       "  '__builtins__',\n",
       "  '__doc__',\n",
       "  '__loader__',\n",
       "  '__name__',\n",
       "  '__package__',\n",
       "  '__spec__',\n",
       "  '_dh',\n",
       "  '_i',\n",
       "  '_i1',\n",
       "  '_ih',\n",
       "  '_ii',\n",
       "  '_iii',\n",
       "  '_oh',\n",
       "  'exit',\n",
       "  'get_ipython',\n",
       "  'quit'],\n",
       " '__': '',\n",
       " '___': '',\n",
       " '_i': 'args = vars()',\n",
       " '_ii': 'dir()',\n",
       " '_iii': '',\n",
       " '_i1': 'dir()',\n",
       " '_1': ['In',\n",
       "  'Out',\n",
       "  '_',\n",
       "  '__',\n",
       "  '___',\n",
       "  '__builtin__',\n",
       "  '__builtins__',\n",
       "  '__doc__',\n",
       "  '__loader__',\n",
       "  '__name__',\n",
       "  '__package__',\n",
       "  '__spec__',\n",
       "  '_dh',\n",
       "  '_i',\n",
       "  '_i1',\n",
       "  '_ih',\n",
       "  '_ii',\n",
       "  '_iii',\n",
       "  '_oh',\n",
       "  'exit',\n",
       "  'get_ipython',\n",
       "  'quit'],\n",
       " '_i2': 'args = vars()',\n",
       " 'args': {...},\n",
       " '_i3': 'vars()'}"
      ]
     },
     "execution_count": 3,
     "metadata": {},
     "output_type": "execute_result"
    }
   ],
   "source": [
    "vars()"
   ]
  },
  {
   "cell_type": "code",
   "execution_count": 14,
   "metadata": {},
   "outputs": [],
   "source": [
    "a = [2,34,5,6,2]"
   ]
  },
  {
   "cell_type": "code",
   "execution_count": 15,
   "metadata": {},
   "outputs": [
    {
     "name": "stdout",
     "output_type": "stream",
     "text": [
      "0 2\n",
      "1 34\n",
      "2 5\n",
      "3 6\n",
      "4 2\n"
     ]
    }
   ],
   "source": [
    "for i, elem in enumerate(a):\n",
    "    print(i, elem)"
   ]
  },
  {
   "cell_type": "code",
   "execution_count": 17,
   "metadata": {},
   "outputs": [
    {
     "name": "stdout",
     "output_type": "stream",
     "text": [
      "4 2\n",
      "3 6\n",
      "2 5\n",
      "1 34\n",
      "0 2\n"
     ]
    }
   ],
   "source": [
    "for i in range(len(a) - 1, -1 , -1):\n",
    "    print(i, a[i])"
   ]
  },
  {
   "cell_type": "code",
   "execution_count": null,
   "metadata": {},
   "outputs": [],
   "source": []
  },
  {
   "cell_type": "code",
   "execution_count": null,
   "metadata": {},
   "outputs": [],
   "source": []
  },
  {
   "cell_type": "code",
   "execution_count": null,
   "metadata": {},
   "outputs": [],
   "source": []
  },
  {
   "cell_type": "code",
   "execution_count": null,
   "metadata": {},
   "outputs": [],
   "source": []
  },
  {
   "cell_type": "code",
   "execution_count": null,
   "metadata": {},
   "outputs": [],
   "source": []
  },
  {
   "cell_type": "code",
   "execution_count": null,
   "metadata": {},
   "outputs": [],
   "source": []
  },
  {
   "cell_type": "code",
   "execution_count": null,
   "metadata": {},
   "outputs": [],
   "source": []
  },
  {
   "cell_type": "code",
   "execution_count": null,
   "metadata": {},
   "outputs": [],
   "source": []
  }
 ],
 "metadata": {
  "kernelspec": {
   "display_name": "Python 3",
   "language": "python",
   "name": "python3"
  },
  "language_info": {
   "codemirror_mode": {
    "name": "ipython",
    "version": 3
   },
   "file_extension": ".py",
   "mimetype": "text/x-python",
   "name": "python",
   "nbconvert_exporter": "python",
   "pygments_lexer": "ipython3",
   "version": "3.6.8"
  }
 },
 "nbformat": 4,
 "nbformat_minor": 2
}
